{
 "cells": [
  {
   "cell_type": "code",
   "execution_count": 0,
   "metadata": {
    "colab": {
     "base_uri": "https://localhost:8080/",
     "height": 35
    },
    "colab_type": "code",
    "id": "r8bsxhUCVEAT",
    "outputId": "cb7468b9-e751-48f3-a7d1-fef635e1dca2"
   },
   "outputs": [
    {
     "name": "stderr",
     "output_type": "stream",
     "text": [
      "Using TensorFlow backend.\n"
     ]
    }
   ],
   "source": [
    "# Import necessary libraries\n",
    "import keras\n",
    "from keras.datasets import mnist\n",
    "from keras import backend as k\n",
    "from keras.utils import to_categorical\n",
    "from keras.models import Sequential\n",
    "from keras.layers import Dense, Flatten, Conv2D, MaxPooling2D, Dropout, BatchNormalization\n",
    "from keras.losses import categorical_crossentropy\n",
    "from keras.optimizers import adam"
   ]
  },
  {
   "cell_type": "code",
   "execution_count": 0,
   "metadata": {
    "colab": {},
    "colab_type": "code",
    "id": "jwO_dXE6jK-1"
   },
   "outputs": [],
   "source": [
    "# Defined model parameters\n",
    "batch_size = 128\n",
    "num_classes = 10\n",
    "epoch = 10\n",
    "n_row, n_col = 28, 28\n",
    "# Load mnist data\n",
    "(x_train, y_train), (x_test, y_test) = mnist.load_data()"
   ]
  },
  {
   "cell_type": "code",
   "execution_count": 0,
   "metadata": {
    "colab": {},
    "colab_type": "code",
    "id": "EQjcMnE9l-VD"
   },
   "outputs": [],
   "source": [
    "# For \"tensorflow \"or \"cntk\" backends, it should be \"channels_last\".\n",
    "# For \"theano\", it should be \"channels_first\". \n",
    "# Both TensorFlow and Theano expects a four dimensional tensor as input.\n",
    "# tensorflow expects tensor with shape(samples, rows, cols, channels)\n",
    "# theano expects tensor with shape(samples, channels, rows, cols).\n",
    "# We can also set this in each conv layer using data_format = \"channels_first\" or \"channels_last\"\n",
    "if k.image_data_format() == \"channels_first\":\n",
    "    x_train = x_train.reshape(x_train.shape[0], 1, n_row, n_col)\n",
    "    x_test = x_test.reshape(x_test.shape[0], 1, n_row, n_col)\n",
    "    input_shape = (1, n_row, n_col)\n",
    "else:\n",
    "    x_train = x_train.reshape(x_train.shape[0], n_row, n_col, 1)\n",
    "    x_test = x_test.reshape(x_test.shape[0], n_row, n_col, 1)\n",
    "    input_shape = (n_row, n_col, 1)"
   ]
  },
  {
   "cell_type": "code",
   "execution_count": 0,
   "metadata": {
    "colab": {
     "base_uri": "https://localhost:8080/",
     "height": 53
    },
    "colab_type": "code",
    "id": "KYJFTU_B4_NA",
    "outputId": "acc29c84-7964-41be-c1e3-63d4da2eed22"
   },
   "outputs": [
    {
     "name": "stdout",
     "output_type": "stream",
     "text": [
      "X train shape (60000, 28, 28, 1)\n",
      "X test shape (10000, 28, 28, 1)\n"
     ]
    }
   ],
   "source": [
    "# Normalization\n",
    "x_train = x_train/255\n",
    "x_test = x_test/255\n",
    "print(\"X train shape\", x_train.shape)\n",
    "print(\"X test shape\", x_test.shape)"
   ]
  },
  {
   "cell_type": "code",
   "execution_count": 0,
   "metadata": {
    "colab": {
     "base_uri": "https://localhost:8080/",
     "height": 53
    },
    "colab_type": "code",
    "id": "h8dmo34H5Lhl",
    "outputId": "6ba7d056-ff01-4412-bd3a-6ab01b82b42c"
   },
   "outputs": [
    {
     "name": "stdout",
     "output_type": "stream",
     "text": [
      "Before conversion 5\n",
      "After conversion [0. 0. 0. 0. 0. 1. 0. 0. 0. 0.]\n"
     ]
    }
   ],
   "source": [
    "# Convert each class label into 10-D vector So,that whereever we have class belongs to certain image it will be 1 otherwise 0.\n",
    "# Basically doing one hot encoding \n",
    "print(\"Before conversion\", y_train[0])\n",
    "y_train = to_categorical(y_train, num_classes)\n",
    "y_test = to_categorical(y_test, num_classes)\n",
    "print(\"After conversion\", y_train[0])"
   ]
  },
  {
   "cell_type": "code",
   "execution_count": 0,
   "metadata": {
    "colab": {},
    "colab_type": "code",
    "id": "_GZjku9jX6pE"
   },
   "outputs": [],
   "source": [
    "%matplotlib inline\n",
    "import matplotlib.pyplot as plt\n",
    "import numpy as np\n",
    "import time\n",
    "# https://gist.github.com/greydanus/f6eee59eaf1d90fcb3b534a25362cea4\n",
    "# https://stackoverflow.com/a/14434334\n",
    "# this function is used to update the plots for each epoch and error\n",
    "def plt_dynamic(x, vy, ty, ax, colors=['b']):\n",
    "    ax.plot(x, vy, 'b', label=\"Validation Loss\")\n",
    "    ax.plot(x, ty, 'r', label=\"Train Loss\") \n",
    "    plt.legend()\n",
    "    plt.grid()\n",
    "    fig.canvas.draw()"
   ]
  },
  {
   "cell_type": "markdown",
   "metadata": {
    "colab_type": "text",
    "id": "Plh1RMkMMZJ8"
   },
   "source": [
    "# 1.  3 Convolutional layer+ relu + adam with kernel size = (5*5)"
   ]
  },
  {
   "cell_type": "code",
   "execution_count": 0,
   "metadata": {
    "colab": {
     "base_uri": "https://localhost:8080/",
     "height": 392
    },
    "colab_type": "code",
    "id": "OB1wr3-Z7lQs",
    "outputId": "99b10175-4699-4e4b-9ca4-0598f6d2b24e"
   },
   "outputs": [
    {
     "name": "stdout",
     "output_type": "stream",
     "text": [
      "Train on 60000 samples, validate on 10000 samples\n",
      "Epoch 1/10\n",
      "60000/60000 [==============================] - 344s 6ms/step - loss: 0.3538 - acc: 0.8843 - val_loss: 0.0534 - val_acc: 0.9829\n",
      "Epoch 2/10\n",
      "60000/60000 [==============================] - 340s 6ms/step - loss: 0.1055 - acc: 0.9679 - val_loss: 0.0372 - val_acc: 0.9882\n",
      "Epoch 3/10\n",
      "60000/60000 [==============================] - 338s 6ms/step - loss: 0.0831 - acc: 0.9752 - val_loss: 0.0294 - val_acc: 0.9909\n",
      "Epoch 4/10\n",
      "60000/60000 [==============================] - 341s 6ms/step - loss: 0.0684 - acc: 0.9797 - val_loss: 0.0240 - val_acc: 0.9917\n",
      "Epoch 5/10\n",
      "60000/60000 [==============================] - 342s 6ms/step - loss: 0.0605 - acc: 0.9819 - val_loss: 0.0238 - val_acc: 0.9926\n",
      "Epoch 6/10\n",
      "60000/60000 [==============================] - 341s 6ms/step - loss: 0.0545 - acc: 0.9833 - val_loss: 0.0216 - val_acc: 0.9931\n",
      "Epoch 7/10\n",
      "60000/60000 [==============================] - 337s 6ms/step - loss: 0.0531 - acc: 0.9844 - val_loss: 0.0232 - val_acc: 0.9932\n",
      "Epoch 8/10\n",
      "60000/60000 [==============================] - 339s 6ms/step - loss: 0.0486 - acc: 0.9855 - val_loss: 0.0195 - val_acc: 0.9940\n",
      "Epoch 9/10\n",
      "60000/60000 [==============================] - 338s 6ms/step - loss: 0.0478 - acc: 0.9854 - val_loss: 0.0198 - val_acc: 0.9934\n",
      "Epoch 10/10\n",
      "60000/60000 [==============================] - 340s 6ms/step - loss: 0.0456 - acc: 0.9863 - val_loss: 0.0200 - val_acc: 0.9944\n"
     ]
    }
   ],
   "source": [
    "# model \n",
    "model = Sequential()\n",
    "model.add(Conv2D(32, kernel_size = (5, 5), activation = \"relu\", input_shape = input_shape))\n",
    "model.add(Dropout(0.5))\n",
    "\n",
    "model.add(Conv2D(64, kernel_size = (5, 5), activation = \"relu\"))\n",
    "model.add(MaxPooling2D(pool_size = (2, 2)))\n",
    "model.add(Dropout(0.5))\n",
    "\n",
    "model.add(Conv2D(128, kernel_size = (5, 5), activation = \"relu\"))\n",
    "model.add(MaxPooling2D(pool_size = (2, 2)))\n",
    "model.add(Dropout(0.5))\n",
    "          \n",
    "model.add(Flatten())\n",
    "model.add(Dense(256, activation = \"relu\"))\n",
    "model.add(Dropout(0.5))\n",
    "model.add(Dense(num_classes, activation = \"softmax\"))\n",
    "\n",
    "model.compile(loss = categorical_crossentropy, metrics = [\"accuracy\"], optimizer = \"Adam\")\n",
    "history = model.fit(x_train, y_train, batch_size, epochs = epoch, verbose = 1, validation_data = (x_test, y_test))"
   ]
  },
  {
   "cell_type": "code",
   "execution_count": 0,
   "metadata": {
    "colab": {
     "base_uri": "https://localhost:8080/",
     "height": 315
    },
    "colab_type": "code",
    "id": "rfUyf7X5S-tg",
    "outputId": "c03ba19f-bd85-43f7-f95f-0befab6f7b06"
   },
   "outputs": [
    {
     "name": "stdout",
     "output_type": "stream",
     "text": [
      "Test score: 0.020037536787898717\n",
      "Test accuracy: 0.9944\n"
     ]
    },
    {
     "data": {
      "image/png": "[encoded data removed]",
      "text/plain": [
       "<Figure size 432x288 with 1 Axes>"
      ]
     },
     "metadata": {
      "tags": []
     },
     "output_type": "display_data"
    }
   ],
   "source": [
    "score351 = model.evaluate(x_test, y_test, verbose=0) \n",
    "print('Test score:', score351[0]) \n",
    "print('Test accuracy:', score351[1])\n",
    "\n",
    "fig,ax = plt.subplots(1,1)\n",
    "ax.set_xlabel('epoch')\n",
    "ax.set_ylabel('Categorical Crossentropy Loss')\n",
    "\n",
    "# list of epoch numbers\n",
    "x = list(range(1, epoch+1))\n",
    "\n",
    "# print(history.history.keys())\n",
    "# dict_keys(['val_loss', 'val_acc', 'loss', 'acc'])\n",
    "# history = model_drop.fit(X_train, Y_train, batch_size=batch_size, epochs=nb_epoch, verbose=1, validation_data=(X_test, Y_test))\n",
    "\n",
    "# we will get val_loss and val_acc only when you pass the paramter validation_data\n",
    "# val_loss : validation loss\n",
    "# val_acc : validation accuracy\n",
    "\n",
    "# loss : training loss\n",
    "# acc : train accuracy\n",
    "# for each key in histrory.histrory we will have a list of length equal to number of epochs\n",
    "\n",
    "vy = history.history['val_loss']\n",
    "ty = history.history['loss']\n",
    "plt_dynamic(x, vy, ty, ax)"
   ]
  },
  {
   "cell_type": "markdown",
   "metadata": {
    "colab_type": "text",
    "id": "TCn-wyexS_T3"
   },
   "source": [
    "# 5 Convolutional layer "
   ]
  },
  {
   "cell_type": "code",
   "execution_count": 0,
   "metadata": {
    "colab": {
     "base_uri": "https://localhost:8080/",
     "height": 392
    },
    "colab_type": "code",
    "id": "zwHXslGXIgZJ",
    "outputId": "03629b5b-aa87-4d97-f3fc-bdd7821ef93d"
   },
   "outputs": [
    {
     "name": "stdout",
     "output_type": "stream",
     "text": [
      "Train on 60000 samples, validate on 10000 samples\n",
      "Epoch 1/10\n",
      "60000/60000 [==============================] - 1451s 24ms/step - loss: 0.3697 - acc: 0.8768 - val_loss: 0.0571 - val_acc: 0.9812\n",
      "Epoch 2/10\n",
      "60000/60000 [==============================] - 1449s 24ms/step - loss: 0.0670 - acc: 0.9810 - val_loss: 0.0405 - val_acc: 0.9870\n",
      "Epoch 3/10\n",
      "60000/60000 [==============================] - 1434s 24ms/step - loss: 0.0492 - acc: 0.9862 - val_loss: 0.0294 - val_acc: 0.9905\n",
      "Epoch 4/10\n",
      "60000/60000 [==============================] - 1428s 24ms/step - loss: 0.0401 - acc: 0.9885 - val_loss: 0.0259 - val_acc: 0.9919\n",
      "Epoch 5/10\n",
      "60000/60000 [==============================] - 1427s 24ms/step - loss: 0.0362 - acc: 0.9897 - val_loss: 0.0298 - val_acc: 0.9904\n",
      "Epoch 6/10\n",
      "60000/60000 [==============================] - 1443s 24ms/step - loss: 0.0327 - acc: 0.9908 - val_loss: 0.0284 - val_acc: 0.9909\n",
      "Epoch 7/10\n",
      "60000/60000 [==============================] - 1440s 24ms/step - loss: 0.0276 - acc: 0.9922 - val_loss: 0.0329 - val_acc: 0.9892\n",
      "Epoch 8/10\n",
      "60000/60000 [==============================] - 1453s 24ms/step - loss: 0.0259 - acc: 0.9926 - val_loss: 0.0262 - val_acc: 0.9925\n",
      "Epoch 9/10\n",
      "60000/60000 [==============================] - 1474s 25ms/step - loss: 0.0278 - acc: 0.9927 - val_loss: 0.0289 - val_acc: 0.9917\n",
      "Epoch 10/10\n",
      "60000/60000 [==============================] - 1457s 24ms/step - loss: 0.0233 - acc: 0.9933 - val_loss: 0.0339 - val_acc: 0.9916\n"
     ]
    }
   ],
   "source": [
    "# model \n",
    "model = Sequential()\n",
    "model.add(Conv2D(30, kernel_size = (5, 5), activation = \"relu\", input_shape = input_shape))\n",
    "model.add(Conv2D(70, kernel_size = (5, 5), activation = \"relu\"))\n",
    "model.add(Dropout(0.5))\n",
    "\n",
    "model.add(Conv2D(110, kernel_size = (5, 5), activation = \"relu\"))\n",
    "model.add(Conv2D(150, kernel_size = (5, 5), activation = \"relu\"))\n",
    "model.add(MaxPooling2D(pool_size = (2, 2)))\n",
    "\n",
    "\n",
    "model.add(Conv2D(190, kernel_size = (5, 5), activation = \"relu\"))\n",
    "model.add(MaxPooling2D(pool_size = (2, 2)))\n",
    "\n",
    "model.add(Flatten())\n",
    "model.add(Dense(245, activation = \"relu\"))\n",
    "model.add(Dropout(0.5))\n",
    "model.add(Dense(num_classes, activation = \"softmax\"))\n",
    "model.compile(loss = categorical_crossentropy, metrics = [\"accuracy\"], optimizer = \"Adam\")\n",
    "history = model.fit(x_train, y_train, batch_size, epochs = epoch, verbose = 1, validation_data = (x_test, y_test))"
   ]
  },
  {
   "cell_type": "code",
   "execution_count": 17,
   "metadata": {
    "colab": {
     "base_uri": "https://localhost:8080/",
     "height": 315
    },
    "colab_type": "code",
    "id": "PSKFKJH45tEO",
    "outputId": "675a81d3-d8ff-490c-ba01-94e72f6cbeaa"
   },
   "outputs": [
    {
     "name": "stdout",
     "output_type": "stream",
     "text": [
      "Test score: 0.03385695243014325\n",
      "Test accuracy: 0.9916\n"
     ]
    },
    {
     "data": {
      "image/png": "[encoded data removed]",
      "text/plain": [
       "<Figure size 432x288 with 1 Axes>"
      ]
     },
     "metadata": {
      "tags": []
     },
     "output_type": "display_data"
    }
   ],
   "source": [
    "score551 = model.evaluate(x_test, y_test, verbose=0) \n",
    "print('Test score:', score551[0]) \n",
    "print('Test accuracy:', score551[1])\n",
    "\n",
    "fig,ax = plt.subplots(1,1)\n",
    "ax.set_xlabel('epoch')\n",
    "ax.set_ylabel('Categorical Crossentropy Loss')\n",
    "\n",
    "# list of epoch numbers\n",
    "x = list(range(1, epoch+1))\n",
    "\n",
    "# print(history.history.keys())\n",
    "# dict_keys(['val_loss', 'val_acc', 'loss', 'acc'])\n",
    "# history = model_drop.fit(X_train, Y_train, batch_size=batch_size, epochs=nb_epoch, verbose=1, validation_data=(X_test, Y_test))\n",
    "\n",
    "# we will get val_loss and val_acc only when you pass the paramter validation_data\n",
    "# val_loss : validation loss\n",
    "# val_acc : validation accuracy\n",
    "\n",
    "# loss : training loss\n",
    "# acc : train accuracy\n",
    "# for each key in histrory.histrory we will have a list of length equal to number of epochs\n",
    "\n",
    "vy = history.history['val_loss']\n",
    "ty = history.history['loss']\n",
    "plt_dynamic(x, vy, ty, ax)"
   ]
  },
  {
   "cell_type": "markdown",
   "metadata": {
    "colab_type": "text",
    "id": "TibpslbMCxai"
   },
   "source": [
    "**Conclusions**<br>\n",
    "1. We used 2 different architecture with 5 * 5 kernel size and obtained good accuracy but if we would run for more epoch accuracy may increase.\n",
    "2. Tried many more architecture with different kernel sizes, maxpooling, bn, dropout and colab takes lot of time to run and in between it gets disconnects and then need to run from start that is irritating, that is why not included that architecture."
   ]
  },
  {
   "cell_type": "code",
   "execution_count": 19,
   "metadata": {
    "colab": {
     "base_uri": "https://localhost:8080/",
     "height": 124
    },
    "colab_type": "code",
    "id": "dmrPR9dQCufG",
    "outputId": "d9d8d0b9-e933-44a7-8295-3b4427d69e04"
   },
   "outputs": [
    {
     "name": "stdout",
     "output_type": "stream",
     "text": [
      "+----------------------------------------+----------+\n",
      "|                 MODEL                  | ACCURACY |\n",
      "+----------------------------------------+----------+\n",
      "| CNN with 3 layers, kernel size = (5*5) |  0.9944  |\n",
      "| CNN with 5 layers, kernel_size = (5*5) |  0.9916  |\n",
      "+----------------------------------------+----------+\n"
     ]
    }
   ],
   "source": [
    "from prettytable import PrettyTable\n",
    "\n",
    "x = PrettyTable()\n",
    "\n",
    "x.field_names = [\"MODEL\", \"ACCURACY\"]\n",
    "x.add_row([\"CNN with 3 layers, kernel size = (5*5)\", score351[1]])\n",
    "x.add_row([\"CNN with 5 layers, kernel_size = (5*5)\", score551[1]])\n",
    "print(x)"
   ]
  }
 ],
 "metadata": {
  "colab": {
   "collapsed_sections": [],
   "name": "Convolutional neural network on MNIST data using keras_2.ipynb",
   "provenance": [],
   "version": "0.3.2"
  },
  "kernelspec": {
   "display_name": "Python 3",
   "language": "python",
   "name": "python3"
  },
  "language_info": {
   "codemirror_mode": {
    "name": "ipython",
    "version": 3
   },
   "file_extension": ".py",
   "mimetype": "text/x-python",
   "name": "python",
   "nbconvert_exporter": "python",
   "pygments_lexer": "ipython3",
   "version": "3.6.1"
  },
  "toc": {
   "base_numbering": 1,
   "nav_menu": {},
   "number_sections": true,
   "sideBar": true,
   "skip_h1_title": false,
   "title_cell": "Table of Contents",
   "title_sidebar": "Contents",
   "toc_cell": false,
   "toc_position": {},
   "toc_section_display": true,
   "toc_window_display": true
  }
 },
 "nbformat": 4,
 "nbformat_minor": 1
}

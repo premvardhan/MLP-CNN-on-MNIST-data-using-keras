{
 "cells": [
  {
   "cell_type": "code",
   "execution_count": 2,
   "metadata": {
    "colab": {
     "base_uri": "https://localhost:8080/",
     "height": 35
    },
    "colab_type": "code",
    "id": "r8bsxhUCVEAT",
    "outputId": "b7340277-8214-4cd8-a747-38e80bc78581"
   },
   "outputs": [
    {
     "name": "stderr",
     "output_type": "stream",
     "text": [
      "Using TensorFlow backend.\n"
     ]
    }
   ],
   "source": [
    "# Credits: https://github.com/keras-team/keras/blob/master/examples/mnist_cnn.py\n",
    "# Import necessary libraries\n",
    "import keras\n",
    "from keras.datasets import mnist\n",
    "from keras import backend as k\n",
    "from keras.utils import to_categorical\n",
    "from keras.models import Sequential\n",
    "from keras.layers import Dense, Flatten, Conv2D, MaxPooling2D, Dropout, BatchNormalization\n",
    "from keras.losses import categorical_crossentropy\n",
    "from keras.optimizers import adam, Adadelta"
   ]
  },
  {
   "cell_type": "code",
   "execution_count": 3,
   "metadata": {
    "colab": {
     "base_uri": "https://localhost:8080/",
     "height": 53
    },
    "colab_type": "code",
    "id": "jwO_dXE6jK-1",
    "outputId": "bd3a316e-b571-4ef8-f30f-657e9f2d04bc"
   },
   "outputs": [
    {
     "name": "stdout",
     "output_type": "stream",
     "text": [
      "Downloading data from https://s3.amazonaws.com/img-datasets/mnist.npz\n",
      "11493376/11490434 [==============================] - 1s 0us/step\n"
     ]
    }
   ],
   "source": [
    "# Defined model parameters\n",
    "batch_size = 128\n",
    "num_classes = 10\n",
    "epoch = 10\n",
    "n_row, n_col = 28, 28\n",
    "# Load mnist data\n",
    "(x_train, y_train), (x_test, y_test) = mnist.load_data()"
   ]
  },
  {
   "cell_type": "code",
   "execution_count": 0,
   "metadata": {
    "colab": {},
    "colab_type": "code",
    "id": "EQjcMnE9l-VD"
   },
   "outputs": [],
   "source": [
    "# For \"tensorflow \"or \"cntk\" backends, it should be \"channels_last\".\n",
    "# For \"theano\", it should be \"channels_first\". \n",
    "# Both TensorFlow and Theano expects a four dimensional tensor as input.\n",
    "# tensorflow expects tensor with shape(samples, rows, cols, channels)\n",
    "# theano expects tensor with shape(samples, channels, rows, cols).\n",
    "# We can also set this in each conv layer using data_format = \"channels_first\" or \"channels_last\"\n",
    "if k.image_data_format() == \"channels_first\":\n",
    "    x_train = x_train.reshape(x_train.shape[0], 1, n_row, n_col)\n",
    "    x_test = x_test.reshape(x_test.shape[0], 1, n_row, n_col)\n",
    "    input_shape = (1, n_row, n_col)\n",
    "else:\n",
    "    x_train = x_train.reshape(x_train.shape[0], n_row, n_col, 1)\n",
    "    x_test = x_test.reshape(x_test.shape[0], n_row, n_col, 1)\n",
    "    input_shape = (n_row, n_col, 1)"
   ]
  },
  {
   "cell_type": "code",
   "execution_count": 5,
   "metadata": {
    "colab": {
     "base_uri": "https://localhost:8080/",
     "height": 53
    },
    "colab_type": "code",
    "id": "KYJFTU_B4_NA",
    "outputId": "74c027d7-62dd-4d89-d1f6-ee49e27044f8"
   },
   "outputs": [
    {
     "name": "stdout",
     "output_type": "stream",
     "text": [
      "X train shape (60000, 28, 28, 1)\n",
      "X test shape (10000, 28, 28, 1)\n"
     ]
    }
   ],
   "source": [
    "# Normalization\n",
    "x_train = x_train/255\n",
    "x_test = x_test/255\n",
    "print(\"X train shape\", x_train.shape)\n",
    "print(\"X test shape\", x_test.shape)"
   ]
  },
  {
   "cell_type": "code",
   "execution_count": 6,
   "metadata": {
    "colab": {
     "base_uri": "https://localhost:8080/",
     "height": 53
    },
    "colab_type": "code",
    "id": "h8dmo34H5Lhl",
    "outputId": "28cadca4-3bbf-4dcb-e5c2-74c55ad071d1"
   },
   "outputs": [
    {
     "name": "stdout",
     "output_type": "stream",
     "text": [
      "Before conversion 5\n",
      "After conversion [0. 0. 0. 0. 0. 1. 0. 0. 0. 0.]\n"
     ]
    }
   ],
   "source": [
    "# Convert each class label into 10-D vector So,that whereever we have class belongs to certain image it will be 1 otherwise 0.\n",
    "# Basically converting 10 class classification into binary class classification\n",
    "print(\"Before conversion\", y_train[0])\n",
    "y_train = to_categorical(y_train, num_classes)\n",
    "y_test = to_categorical(y_test, num_classes)\n",
    "print(\"After conversion\", y_train[0])"
   ]
  },
  {
   "cell_type": "code",
   "execution_count": 0,
   "metadata": {
    "colab": {},
    "colab_type": "code",
    "id": "_GZjku9jX6pE"
   },
   "outputs": [],
   "source": [
    "%matplotlib inline\n",
    "import matplotlib.pyplot as plt\n",
    "import numpy as np\n",
    "import time\n",
    "# https://gist.github.com/greydanus/f6eee59eaf1d90fcb3b534a25362cea4\n",
    "# https://stackoverflow.com/a/14434334\n",
    "# this function is used to update the plots for each epoch and error\n",
    "def plt_dynamic(x, vy, ty, ax, colors=['b']):\n",
    "    ax.plot(x, vy, 'b', label=\"Validation Loss\")\n",
    "    ax.plot(x, ty, 'r', label=\"Train Loss\") \n",
    "    plt.legend()\n",
    "    plt.grid()\n",
    "    fig.canvas.draw()"
   ]
  },
  {
   "cell_type": "markdown",
   "metadata": {
    "colab_type": "text",
    "id": "Plh1RMkMMZJ8"
   },
   "source": [
    "# 1.  3 Convolutional layer+ relu + adam with kernel size = (3*3)"
   ]
  },
  {
   "cell_type": "code",
   "execution_count": 8,
   "metadata": {
    "colab": {
     "base_uri": "https://localhost:8080/",
     "height": 392
    },
    "colab_type": "code",
    "id": "OB1wr3-Z7lQs",
    "outputId": "51a3a5b5-c459-4d30-ebfe-ccf685ba4666"
   },
   "outputs": [
    {
     "name": "stdout",
     "output_type": "stream",
     "text": [
      "Train on 60000 samples, validate on 10000 samples\n",
      "Epoch 1/10\n",
      "60000/60000 [==============================] - 68s 1ms/step - loss: 0.7178 - acc: 0.7655 - val_loss: 0.1410 - val_acc: 0.9550\n",
      "Epoch 2/10\n",
      "60000/60000 [==============================] - 66s 1ms/step - loss: 0.2576 - acc: 0.9242 - val_loss: 0.0901 - val_acc: 0.9729\n",
      "Epoch 3/10\n",
      "60000/60000 [==============================] - 66s 1ms/step - loss: 0.1942 - acc: 0.9432 - val_loss: 0.0885 - val_acc: 0.9709\n",
      "Epoch 4/10\n",
      "60000/60000 [==============================] - 66s 1ms/step - loss: 0.1640 - acc: 0.9520 - val_loss: 0.0663 - val_acc: 0.9797\n",
      "Epoch 5/10\n",
      "60000/60000 [==============================] - 66s 1ms/step - loss: 0.1440 - acc: 0.9584 - val_loss: 0.0614 - val_acc: 0.9811\n",
      "Epoch 6/10\n",
      "60000/60000 [==============================] - 66s 1ms/step - loss: 0.1311 - acc: 0.9618 - val_loss: 0.0599 - val_acc: 0.9820\n",
      "Epoch 7/10\n",
      "60000/60000 [==============================] - 66s 1ms/step - loss: 0.1207 - acc: 0.9653 - val_loss: 0.0572 - val_acc: 0.9828\n",
      "Epoch 8/10\n",
      "60000/60000 [==============================] - 66s 1ms/step - loss: 0.1125 - acc: 0.9676 - val_loss: 0.0552 - val_acc: 0.9831\n",
      "Epoch 9/10\n",
      "60000/60000 [==============================] - 66s 1ms/step - loss: 0.1046 - acc: 0.9696 - val_loss: 0.0505 - val_acc: 0.9846\n",
      "Epoch 10/10\n",
      "60000/60000 [==============================] - 66s 1ms/step - loss: 0.0977 - acc: 0.9716 - val_loss: 0.0474 - val_acc: 0.9866\n"
     ]
    }
   ],
   "source": [
    "# model \n",
    "model = Sequential()\n",
    "model.add(Conv2D(32, kernel_size = (3, 3), activation = \"relu\", input_shape = input_shape))\n",
    "model.add(MaxPooling2D(pool_size = (2, 2)))\n",
    "model.add(Dropout(0.5))\n",
    "\n",
    "model.add(Conv2D(64, kernel_size = (3, 3), activation = \"relu\"))\n",
    "model.add(MaxPooling2D(pool_size = (2, 2)))\n",
    "\n",
    "model.add(Conv2D(128, kernel_size = (3, 3), activation = \"relu\"))\n",
    "model.add(MaxPooling2D(pool_size = (2, 2)))\n",
    "model.add(Dropout(0.5))\n",
    "\n",
    "model.add(Flatten())\n",
    "model.add(Dense(256, activation = \"relu\"))\n",
    "model.add(Dropout(0.5))\n",
    "model.add(Dense(num_classes, activation = \"softmax\"))\n",
    "\n",
    "model.compile(loss = categorical_crossentropy, metrics = [\"accuracy\"], optimizer = \"Adam\")\n",
    "history = model.fit(x_train, y_train, batch_size, epochs = epoch, verbose = 1, validation_data = (x_test, y_test))"
   ]
  },
  {
   "cell_type": "code",
   "execution_count": 9,
   "metadata": {
    "colab": {
     "base_uri": "https://localhost:8080/",
     "height": 315
    },
    "colab_type": "code",
    "id": "rfUyf7X5S-tg",
    "outputId": "ccefcfe1-762a-4006-cb98-c71ae9eacc29"
   },
   "outputs": [
    {
     "name": "stdout",
     "output_type": "stream",
     "text": [
      "Test score: 0.0474077377032605\n",
      "Test accuracy: 0.9866\n"
     ]
    },
    {
     "data": {
      "image/png": "[encoded data removed]",
      "text/plain": [
       "<Figure size 432x288 with 1 Axes>"
      ]
     },
     "metadata": {
      "tags": []
     },
     "output_type": "display_data"
    }
   ],
   "source": [
    "score33 = model.evaluate(x_test, y_test, verbose=0) \n",
    "print('Test score:', score33[0]) \n",
    "print('Test accuracy:', score33[1])\n",
    "\n",
    "fig,ax = plt.subplots(1,1)\n",
    "ax.set_xlabel('epoch')\n",
    "ax.set_ylabel('Categorical Crossentropy Loss')\n",
    "\n",
    "# list of epoch numbers\n",
    "x = list(range(1, epoch+1))\n",
    "\n",
    "# print(history.history.keys())\n",
    "# dict_keys(['val_loss', 'val_acc', 'loss', 'acc'])\n",
    "# history = model_drop.fit(X_train, Y_train, batch_size=batch_size, epochs=nb_epoch, verbose=1, validation_data=(X_test, Y_test))\n",
    "\n",
    "# we will get val_loss and val_acc only when you pass the paramter validation_data\n",
    "# val_loss : validation loss\n",
    "# val_acc : validation accuracy\n",
    "\n",
    "# loss : training loss\n",
    "# acc : train accuracy\n",
    "# for each key in histrory.histrory we will have a list of length equal to number of epochs\n",
    "\n",
    "vy = history.history['val_loss']\n",
    "ty = history.history['loss']\n",
    "plt_dynamic(x, vy, ty, ax)"
   ]
  },
  {
   "cell_type": "markdown",
   "metadata": {
    "colab_type": "text",
    "id": "rgNAOP_QhGGL"
   },
   "source": [
    "**Observations**<br>\n",
    "1. We used 3 * 3 kernel size with 3 conv layer and got accuracy ~ 98% which is quite good and if we will run for more epoch accuracy could be increase because the loss gap between train and validation is more."
   ]
  },
  {
   "cell_type": "markdown",
   "metadata": {
    "colab_type": "text",
    "id": "TCn-wyexS_T3"
   },
   "source": [
    "# 5 Convolutional layer "
   ]
  },
  {
   "cell_type": "code",
   "execution_count": 12,
   "metadata": {
    "colab": {
     "base_uri": "https://localhost:8080/",
     "height": 392
    },
    "colab_type": "code",
    "id": "zwHXslGXIgZJ",
    "outputId": "8627e1a0-7274-45a5-9d1d-8417049c6096"
   },
   "outputs": [
    {
     "name": "stdout",
     "output_type": "stream",
     "text": [
      "Train on 60000 samples, validate on 10000 samples\n",
      "Epoch 1/10\n",
      "60000/60000 [==============================] - 63s 1ms/step - loss: 0.4539 - acc: 0.8519 - val_loss: 0.0739 - val_acc: 0.9761\n",
      "Epoch 2/10\n",
      "60000/60000 [==============================] - 63s 1ms/step - loss: 0.1321 - acc: 0.9601 - val_loss: 0.0474 - val_acc: 0.9858\n",
      "Epoch 3/10\n",
      "60000/60000 [==============================] - 63s 1ms/step - loss: 0.0966 - acc: 0.9717 - val_loss: 0.0358 - val_acc: 0.9886\n",
      "Epoch 4/10\n",
      "60000/60000 [==============================] - 63s 1ms/step - loss: 0.0782 - acc: 0.9776 - val_loss: 0.0365 - val_acc: 0.9898\n",
      "Epoch 5/10\n",
      "60000/60000 [==============================] - 63s 1ms/step - loss: 0.0653 - acc: 0.9810 - val_loss: 0.0293 - val_acc: 0.9911\n",
      "Epoch 6/10\n",
      "60000/60000 [==============================] - 63s 1ms/step - loss: 0.0573 - acc: 0.9836 - val_loss: 0.0277 - val_acc: 0.9919\n",
      "Epoch 7/10\n",
      "60000/60000 [==============================] - 63s 1ms/step - loss: 0.0502 - acc: 0.9856 - val_loss: 0.0263 - val_acc: 0.9921\n",
      "Epoch 8/10\n",
      "60000/60000 [==============================] - 63s 1ms/step - loss: 0.0473 - acc: 0.9864 - val_loss: 0.0421 - val_acc: 0.9885\n",
      "Epoch 9/10\n",
      "60000/60000 [==============================] - 63s 1ms/step - loss: 0.0436 - acc: 0.9869 - val_loss: 0.0316 - val_acc: 0.9904\n",
      "Epoch 10/10\n",
      "60000/60000 [==============================] - 62s 1ms/step - loss: 0.0408 - acc: 0.9878 - val_loss: 0.0234 - val_acc: 0.9934\n"
     ]
    }
   ],
   "source": [
    "# model \n",
    "model = Sequential()\n",
    "model.add(Conv2D(8, kernel_size = (3, 3), activation = \"relu\", input_shape = input_shape))\n",
    "model.add(Conv2D(16, kernel_size = (3, 3), activation = \"relu\"))\n",
    "model.add(MaxPooling2D(pool_size = (2, 2)))\n",
    "\n",
    "model.add(Conv2D(32, kernel_size = (3, 3), activation = \"relu\"))\n",
    "model.add(Conv2D(25, kernel_size = (3, 3), activation = \"relu\"))\n",
    "model.add(MaxPooling2D(pool_size = (2, 2)))\n",
    "\n",
    "model.add(Conv2D(64, kernel_size = (3, 3), activation = \"relu\"))\n",
    "model.add(Dropout(0.5))\n",
    "model.add(Flatten())\n",
    "model.add(Dense(245, activation = \"relu\"))\n",
    "model.add(Dropout(0.5))\n",
    "model.add(Dense(num_classes, activation = \"softmax\"))\n",
    "model.compile(loss = categorical_crossentropy, metrics = [\"accuracy\"], optimizer = \"adam\")\n",
    "history = model.fit(x_train, y_train, batch_size, epochs = epoch, verbose = 1, validation_data = (x_test, y_test))"
   ]
  },
  {
   "cell_type": "code",
   "execution_count": 13,
   "metadata": {
    "colab": {
     "base_uri": "https://localhost:8080/",
     "height": 315
    },
    "colab_type": "code",
    "id": "gbRF-ncHZwWM",
    "outputId": "23cfc778-79dd-4e09-e1fe-22a10ce1e3f1"
   },
   "outputs": [
    {
     "name": "stdout",
     "output_type": "stream",
     "text": [
      "Test score: 0.02341056873934958\n",
      "Test accuracy: 0.9934\n"
     ]
    },
    {
     "data": {
      "image/png": "[encoded data removed]",
      "text/plain": [
       "<Figure size 432x288 with 1 Axes>"
      ]
     },
     "metadata": {
      "tags": []
     },
     "output_type": "display_data"
    }
   ],
   "source": [
    "score53 = model.evaluate(x_test, y_test, verbose=0) \n",
    "print('Test score:', score53[0]) \n",
    "print('Test accuracy:', score53[1])\n",
    "\n",
    "fig,ax = plt.subplots(1,1)\n",
    "ax.set_xlabel('epoch')\n",
    "ax.set_ylabel('Categorical Crossentropy Loss')\n",
    "\n",
    "# list of epoch numbers\n",
    "x = list(range(1, epoch+1))\n",
    "\n",
    "# print(history.history.keys())\n",
    "# dict_keys(['val_loss', 'val_acc', 'loss', 'acc'])\n",
    "# history = model_drop.fit(X_train, Y_train, batch_size=batch_size, epochs=nb_epoch, verbose=1, validation_data=(X_test, Y_test))\n",
    "\n",
    "# we will get val_loss and val_acc only when you pass the paramter validation_data\n",
    "# val_loss : validation loss\n",
    "# val_acc : validation accuracy\n",
    "\n",
    "# loss : training loss\n",
    "# acc : train accuracy\n",
    "# for each key in histrory.histrory we will have a list of length equal to number of epochs\n",
    "\n",
    "vy = history.history['val_loss']\n",
    "ty = history.history['loss']\n",
    "plt_dynamic(x, vy, ty, ax)"
   ]
  },
  {
   "cell_type": "markdown",
   "metadata": {
    "colab_type": "text",
    "id": "iKC8T2TWlHEJ"
   },
   "source": [
    "**Observations**<br>\n",
    "1. As we have used  5 conv layer with 3 * 3 kernel size and accurcy is better than the above architecture."
   ]
  },
  {
   "cell_type": "markdown",
   "metadata": {
    "colab_type": "text",
    "id": "o9T8eXDzgo7l"
   },
   "source": [
    "**Conclusions**<br>\n",
    "1. The number of conv layer is more and accuracy is also better."
   ]
  },
  {
   "cell_type": "code",
   "execution_count": 16,
   "metadata": {
    "colab": {
     "base_uri": "https://localhost:8080/",
     "height": 124
    },
    "colab_type": "code",
    "id": "iFSxCFt6_1Ts",
    "outputId": "8bf85397-c004-4377-9ace-d680e45efe26"
   },
   "outputs": [
    {
     "name": "stdout",
     "output_type": "stream",
     "text": [
      "+----------------------------------------+----------+\n",
      "|                 MODEL                  | ACCURACY |\n",
      "+----------------------------------------+----------+\n",
      "| CNN with 3 layers, kernel_size = (3*3) |  0.9866  |\n",
      "| CNN with 5 layers, kernel_size = (3*3) |  0.9934  |\n",
      "+----------------------------------------+----------+\n"
     ]
    }
   ],
   "source": [
    "from prettytable import PrettyTable\n",
    "\n",
    "x = PrettyTable()\n",
    "\n",
    "x.field_names = [\"MODEL\", \"ACCURACY\"]\n",
    "x.add_row([\"CNN with 3 layers, kernel_size = (3*3)\", score33[1]])\n",
    "x.add_row([\"CNN with 5 layers, kernel_size = (3*3)\", score53[1]])\n",
    "print(x)"
   ]
  }
 ],
 "metadata": {
  "colab": {
   "collapsed_sections": [],
   "name": "Convolutional neural network on MNIST data using keras_1.ipynb",
   "provenance": [],
   "version": "0.3.2"
  },
  "kernelspec": {
   "display_name": "Python 3",
   "language": "python",
   "name": "python3"
  },
  "language_info": {
   "codemirror_mode": {
    "name": "ipython",
    "version": 3
   },
   "file_extension": ".py",
   "mimetype": "text/x-python",
   "name": "python",
   "nbconvert_exporter": "python",
   "pygments_lexer": "ipython3",
   "version": "3.6.1"
  },
  "toc": {
   "base_numbering": 1,
   "nav_menu": {},
   "number_sections": true,
   "sideBar": true,
   "skip_h1_title": false,
   "title_cell": "Table of Contents",
   "title_sidebar": "Contents",
   "toc_cell": false,
   "toc_position": {},
   "toc_section_display": true,
   "toc_window_display": true
  }
 },
 "nbformat": 4,
 "nbformat_minor": 1
}

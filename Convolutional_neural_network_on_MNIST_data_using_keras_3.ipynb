{
 "cells": [
  {
   "cell_type": "code",
   "execution_count": 2,
   "metadata": {
    "colab": {
     "base_uri": "https://localhost:8080/",
     "height": 35
    },
    "colab_type": "code",
    "id": "r8bsxhUCVEAT",
    "outputId": "1b63b517-0a43-45e8-aa87-b1814535c417"
   },
   "outputs": [
    {
     "name": "stderr",
     "output_type": "stream",
     "text": [
      "Using TensorFlow backend.\n"
     ]
    }
   ],
   "source": [
    "# Import necessary libraries\n",
    "import keras\n",
    "from keras.datasets import mnist\n",
    "from keras import backend as k\n",
    "from keras.utils import to_categorical\n",
    "from keras.models import Sequential\n",
    "from keras.layers import Dense, Flatten, Conv2D, MaxPooling2D, Dropout, BatchNormalization\n",
    "from keras.losses import categorical_crossentropy\n",
    "from keras.optimizers import adam, Adadelta"
   ]
  },
  {
   "cell_type": "code",
   "execution_count": 3,
   "metadata": {
    "colab": {
     "base_uri": "https://localhost:8080/",
     "height": 53
    },
    "colab_type": "code",
    "id": "jwO_dXE6jK-1",
    "outputId": "f7775aef-8000-4f38-89be-78ca2be0b989"
   },
   "outputs": [
    {
     "name": "stdout",
     "output_type": "stream",
     "text": [
      "Downloading data from https://s3.amazonaws.com/img-datasets/mnist.npz\n",
      "11493376/11490434 [==============================] - 0s 0us/step\n"
     ]
    }
   ],
   "source": [
    "# Defined model parameters\n",
    "batch_size = 128\n",
    "num_classes = 10\n",
    "epoch = 10\n",
    "n_row, n_col = 28, 28\n",
    "# Load mnist data\n",
    "(x_train, y_train), (x_test, y_test) = mnist.load_data()"
   ]
  },
  {
   "cell_type": "code",
   "execution_count": 0,
   "metadata": {
    "colab": {},
    "colab_type": "code",
    "id": "EQjcMnE9l-VD"
   },
   "outputs": [],
   "source": [
    "# For \"tensorflow \"or \"cntk\" backends, it should be \"channels_last\".\n",
    "# For \"theano\", it should be \"channels_first\". \n",
    "# Both TensorFlow and Theano expects a four dimensional tensor as input.\n",
    "# tensorflow expects tensor with shape(samples, rows, cols, channels)\n",
    "# theano expects tensor with shape(samples, channels, rows, cols).\n",
    "# We can also set this in each conv layer using data_format = \"channels_first\" or \"channels_last\"\n",
    "if k.image_data_format() == \"channels_first\":\n",
    "    x_train = x_train.reshape(x_train.shape[0], 1, n_row, n_col)\n",
    "    x_test = x_test.reshape(x_test.shape[0], 1, n_row, n_col)\n",
    "    input_shape = (1, n_row, n_col)\n",
    "else:\n",
    "    x_train = x_train.reshape(x_train.shape[0], n_row, n_col, 1)\n",
    "    x_test = x_test.reshape(x_test.shape[0], n_row, n_col, 1)\n",
    "    input_shape = (n_row, n_col, 1)"
   ]
  },
  {
   "cell_type": "code",
   "execution_count": 5,
   "metadata": {
    "colab": {
     "base_uri": "https://localhost:8080/",
     "height": 53
    },
    "colab_type": "code",
    "id": "KYJFTU_B4_NA",
    "outputId": "067ddb33-128a-4760-e74f-fe0ea8a26f21"
   },
   "outputs": [
    {
     "name": "stdout",
     "output_type": "stream",
     "text": [
      "X train shape (60000, 28, 28, 1)\n",
      "X test shape (10000, 28, 28, 1)\n"
     ]
    }
   ],
   "source": [
    "# Normalization\n",
    "x_train = x_train/255\n",
    "x_test = x_test/255\n",
    "print(\"X train shape\", x_train.shape)\n",
    "print(\"X test shape\", x_test.shape)"
   ]
  },
  {
   "cell_type": "code",
   "execution_count": 6,
   "metadata": {
    "colab": {
     "base_uri": "https://localhost:8080/",
     "height": 53
    },
    "colab_type": "code",
    "id": "h8dmo34H5Lhl",
    "outputId": "373dcea8-627e-4ac5-dec9-6518d2b232e5"
   },
   "outputs": [
    {
     "name": "stdout",
     "output_type": "stream",
     "text": [
      "Before conversion 5\n",
      "After conversion [0. 0. 0. 0. 0. 1. 0. 0. 0. 0.]\n"
     ]
    }
   ],
   "source": [
    "# Convert each class label into 10-D vector So,that whereever we have class belongs to certain image it will be 1 otherwise 0.\n",
    "# Basically doing one hot encoding \n",
    "print(\"Before conversion\", y_train[0])\n",
    "y_train = to_categorical(y_train, num_classes)\n",
    "y_test = to_categorical(y_test, num_classes)\n",
    "print(\"After conversion\", y_train[0])"
   ]
  },
  {
   "cell_type": "code",
   "execution_count": 0,
   "metadata": {
    "colab": {},
    "colab_type": "code",
    "id": "_GZjku9jX6pE"
   },
   "outputs": [],
   "source": [
    "%matplotlib inline\n",
    "import matplotlib.pyplot as plt\n",
    "import numpy as np\n",
    "import time\n",
    "# https://gist.github.com/greydanus/f6eee59eaf1d90fcb3b534a25362cea4\n",
    "# https://stackoverflow.com/a/14434334\n",
    "# this function is used to update the plots for each epoch and error\n",
    "def plt_dynamic(x, vy, ty, ax, colors=['b']):\n",
    "    ax.plot(x, vy, 'b', label=\"Validation Loss\")\n",
    "    ax.plot(x, ty, 'r', label=\"Train Loss\") \n",
    "    plt.legend()\n",
    "    plt.grid()\n",
    "    fig.canvas.draw()"
   ]
  },
  {
   "cell_type": "markdown",
   "metadata": {
    "colab_type": "text",
    "id": "gW5eq4r45kio"
   },
   "source": [
    "# 4 Convolutional layer with kernel_size = (7 * 7)"
   ]
  },
  {
   "cell_type": "code",
   "execution_count": 30,
   "metadata": {
    "colab": {
     "base_uri": "https://localhost:8080/",
     "height": 392
    },
    "colab_type": "code",
    "id": "rP5wlVqx5kxf",
    "outputId": "0a7655ca-654f-48ff-9ff1-a744c96dc8fb"
   },
   "outputs": [
    {
     "name": "stdout",
     "output_type": "stream",
     "text": [
      "Train on 60000 samples, validate on 10000 samples\n",
      "Epoch 1/10\n",
      "60000/60000 [==============================] - 94s 2ms/step - loss: 0.4781 - acc: 0.8425 - val_loss: 0.0942 - val_acc: 0.9707\n",
      "Epoch 2/10\n",
      "60000/60000 [==============================] - 92s 2ms/step - loss: 0.1393 - acc: 0.9584 - val_loss: 0.0712 - val_acc: 0.9783\n",
      "Epoch 3/10\n",
      "60000/60000 [==============================] - 95s 2ms/step - loss: 0.1019 - acc: 0.9706 - val_loss: 0.0518 - val_acc: 0.9847\n",
      "Epoch 4/10\n",
      "60000/60000 [==============================] - 93s 2ms/step - loss: 0.0896 - acc: 0.9739 - val_loss: 0.0466 - val_acc: 0.9851\n",
      "Epoch 5/10\n",
      "60000/60000 [==============================] - 91s 2ms/step - loss: 0.0730 - acc: 0.9783 - val_loss: 0.0424 - val_acc: 0.9866\n",
      "Epoch 6/10\n",
      "60000/60000 [==============================] - 91s 2ms/step - loss: 0.0672 - acc: 0.9800 - val_loss: 0.0342 - val_acc: 0.9897\n",
      "Epoch 7/10\n",
      "60000/60000 [==============================] - 92s 2ms/step - loss: 0.0607 - acc: 0.9820 - val_loss: 0.0404 - val_acc: 0.9875\n",
      "Epoch 8/10\n",
      "60000/60000 [==============================] - 90s 2ms/step - loss: 0.0578 - acc: 0.9829 - val_loss: 0.0357 - val_acc: 0.9893\n",
      "Epoch 9/10\n",
      "60000/60000 [==============================] - 90s 2ms/step - loss: 0.0541 - acc: 0.9843 - val_loss: 0.0322 - val_acc: 0.9902\n",
      "Epoch 10/10\n",
      "60000/60000 [==============================] - 92s 2ms/step - loss: 0.0527 - acc: 0.9849 - val_loss: 0.0327 - val_acc: 0.9890\n"
     ]
    }
   ],
   "source": [
    "# model \n",
    "model = Sequential()\n",
    "model.add(Conv2D(8, kernel_size = (7, 7), activation = \"relu\", input_shape = input_shape))\n",
    "model.add(Conv2D(8, kernel_size = (7, 7), activation = \"relu\"))\n",
    "model.add(Dropout(0.5))\n",
    "\n",
    "model.add(Conv2D(16, kernel_size = (7, 7), activation = \"relu\"))\n",
    "model.add(Conv2D(16, kernel_size = (7, 7), activation = \"relu\"))\n",
    "model.add(MaxPooling2D(pool_size = (2, 2)))\n",
    "\n",
    "model.add(Flatten())\n",
    "model.add(Dense(198, activation = \"relu\"))\n",
    "model.add(Dropout(0.5))\n",
    "model.add(Dense(num_classes, activation = \"softmax\"))\n",
    "model.compile(loss = categorical_crossentropy, metrics = [\"accuracy\"], optimizer = \"adam\")\n",
    "history = model.fit(x_train, y_train, batch_size, epochs = epoch, verbose = 1, validation_data = (x_test, y_test))"
   ]
  },
  {
   "cell_type": "code",
   "execution_count": 31,
   "metadata": {
    "colab": {
     "base_uri": "https://localhost:8080/",
     "height": 319
    },
    "colab_type": "code",
    "id": "kL43tjOL5k7h",
    "outputId": "b27a8b9c-c5cf-4868-fc17-ed4d55536c65"
   },
   "outputs": [
    {
     "name": "stdout",
     "output_type": "stream",
     "text": [
      "Test score: 0.03266936225374811\n",
      "Test accuracy: 0.989\n"
     ]
    },
    {
     "data": {
      "image/png": "[encoded data removed]",
      "text/plain": [
       "<Figure size 432x288 with 1 Axes>"
      ]
     },
     "metadata": {
      "tags": []
     },
     "output_type": "display_data"
    }
   ],
   "source": [
    "score757 = model.evaluate(x_test, y_test, verbose=0) \n",
    "print('Test score:', score757[0]) \n",
    "print('Test accuracy:', score757[1])\n",
    "\n",
    "fig,ax = plt.subplots(1,1)\n",
    "ax.set_xlabel('epoch')\n",
    "ax.set_ylabel('Categorical Crossentropy Loss')\n",
    "\n",
    "# list of epoch numbers\n",
    "x = list(range(1, epoch+1))\n",
    "\n",
    "# print(history.history.keys())\n",
    "# dict_keys(['val_loss', 'val_acc', 'loss', 'acc'])\n",
    "# history = model_drop.fit(X_train, Y_train, batch_size=batch_size, epochs=nb_epoch, verbose=1, validation_data=(X_test, Y_test))\n",
    "\n",
    "# we will get val_loss and val_acc only when you pass the paramter validation_data\n",
    "# val_loss : validation loss\n",
    "# val_acc : validation accuracy\n",
    "\n",
    "# loss : training loss\n",
    "# acc : train accuracy\n",
    "# for each key in histrory.histrory we will have a list of length equal to number of epochs\n",
    "\n",
    "vy = history.history['val_loss']\n",
    "ty = history.history['loss']\n",
    "plt_dynamic(x, vy, ty, ax)"
   ]
  },
  {
   "cell_type": "markdown",
   "metadata": {
    "colab_type": "text",
    "id": "dTXUl6kwPqsX"
   },
   "source": [
    "**Observations** <br>\n",
    "1. We have used 4 convolutional layer with couple of dropout and maxpooling layer and found that train and validation loss is closed to each other and and hence model don't overfit. "
   ]
  },
  {
   "cell_type": "markdown",
   "metadata": {
    "colab_type": "text",
    "id": "TCn-wyexS_T3"
   },
   "source": [
    "# 5 Convolutional layer + relu + adam with kernel_size = (3, 5 and 7)"
   ]
  },
  {
   "cell_type": "code",
   "execution_count": 9,
   "metadata": {
    "colab": {
     "base_uri": "https://localhost:8080/",
     "height": 392
    },
    "colab_type": "code",
    "id": "zwHXslGXIgZJ",
    "outputId": "42b97529-9d49-40a4-9420-218513740400"
   },
   "outputs": [
    {
     "name": "stdout",
     "output_type": "stream",
     "text": [
      "Train on 60000 samples, validate on 10000 samples\n",
      "Epoch 1/10\n",
      "60000/60000 [==============================] - 513s 9ms/step - loss: 0.2337 - acc: 0.9268 - val_loss: 0.0401 - val_acc: 0.9884\n",
      "Epoch 2/10\n",
      "60000/60000 [==============================] - 521s 9ms/step - loss: 0.0655 - acc: 0.9808 - val_loss: 0.0278 - val_acc: 0.9928\n",
      "Epoch 3/10\n",
      "60000/60000 [==============================] - 525s 9ms/step - loss: 0.0506 - acc: 0.9849 - val_loss: 0.0222 - val_acc: 0.9933\n",
      "Epoch 4/10\n",
      "60000/60000 [==============================] - 534s 9ms/step - loss: 0.0427 - acc: 0.9879 - val_loss: 0.0261 - val_acc: 0.9920\n",
      "Epoch 5/10\n",
      "60000/60000 [==============================] - 523s 9ms/step - loss: 0.0378 - acc: 0.9888 - val_loss: 0.0222 - val_acc: 0.9931\n",
      "Epoch 6/10\n",
      "60000/60000 [==============================] - 520s 9ms/step - loss: 0.0360 - acc: 0.9892 - val_loss: 0.0257 - val_acc: 0.9929\n",
      "Epoch 7/10\n",
      "60000/60000 [==============================] - 530s 9ms/step - loss: 0.0304 - acc: 0.9911 - val_loss: 0.0202 - val_acc: 0.9934\n",
      "Epoch 8/10\n",
      "60000/60000 [==============================] - 533s 9ms/step - loss: 0.0297 - acc: 0.9915 - val_loss: 0.0233 - val_acc: 0.9928\n",
      "Epoch 9/10\n",
      "60000/60000 [==============================] - 530s 9ms/step - loss: 0.0274 - acc: 0.9920 - val_loss: 0.0218 - val_acc: 0.9929\n",
      "Epoch 10/10\n",
      "60000/60000 [==============================] - 526s 9ms/step - loss: 0.0256 - acc: 0.9923 - val_loss: 0.0192 - val_acc: 0.9941\n"
     ]
    }
   ],
   "source": [
    "# model \n",
    "model = Sequential()\n",
    "model.add(Conv2D(16, kernel_size = (3, 3), activation = \"relu\", input_shape = input_shape))\n",
    "model.add(Conv2D(16, kernel_size = (3, 3), activation = \"relu\"))\n",
    "model.add(Conv2D(32, kernel_size = (5, 5), activation = \"relu\"))\n",
    "model.add(Conv2D(64, kernel_size = (7, 7), activation = \"relu\"))\n",
    "model.add(Dropout(0.5))\n",
    "\n",
    "model.add(Conv2D(128, kernel_size = (7, 7), activation = \"relu\"))\n",
    "model.add(MaxPooling2D(pool_size = (2, 2)))\n",
    "model.add(Dropout(0.5))\n",
    "\n",
    "model.add(Flatten())\n",
    "model.add(Dense(256, activation = \"relu\"))\n",
    "model.add(Dropout(0.5))\n",
    "model.add(Dense(num_classes, activation = \"softmax\"))\n",
    "\n",
    "model.compile(loss = categorical_crossentropy, metrics = [\"accuracy\"], optimizer = \"adam\")\n",
    "history = model.fit(x_train, y_train, batch_size, epochs = epoch, verbose = 1, validation_data = (x_test, y_test))"
   ]
  },
  {
   "cell_type": "code",
   "execution_count": 10,
   "metadata": {
    "colab": {
     "base_uri": "https://localhost:8080/",
     "height": 315
    },
    "colab_type": "code",
    "id": "gbRF-ncHZwWM",
    "outputId": "0873777d-075f-46a8-b3e7-d40029b39c82"
   },
   "outputs": [
    {
     "name": "stdout",
     "output_type": "stream",
     "text": [
      "Test score: 0.019235954049397697\n",
      "Test accuracy: 0.9941\n"
     ]
    },
    {
     "data": {
      "image/png": "[encoded data removed]",
      "text/plain": [
       "<Figure size 432x288 with 1 Axes>"
      ]
     },
     "metadata": {
      "tags": []
     },
     "output_type": "display_data"
    }
   ],
   "source": [
    "score751 = model.evaluate(x_test, y_test, verbose=0) \n",
    "print('Test score:', score751[0]) \n",
    "print('Test accuracy:', score751[1])\n",
    "\n",
    "fig,ax = plt.subplots(1,1)\n",
    "ax.set_xlabel('epoch')\n",
    "ax.set_ylabel('Categorical Crossentropy Loss')\n",
    "\n",
    "# list of epoch numbers\n",
    "x = list(range(1, epoch+1))\n",
    "\n",
    "# print(history.history.keys())\n",
    "# dict_keys(['val_loss', 'val_acc', 'loss', 'acc'])\n",
    "# history = model_drop.fit(X_train, Y_train, batch_size=batch_size, epochs=nb_epoch, verbose=1, validation_data=(X_test, Y_test))\n",
    "\n",
    "# we will get val_loss and val_acc only when you pass the paramter validation_data\n",
    "# val_loss : validation loss\n",
    "# val_acc : validation accuracy\n",
    "\n",
    "# loss : training loss\n",
    "# acc : train accuracy\n",
    "# for each key in histrory.histrory we will have a list of length equal to number of epochs\n",
    "\n",
    "vy = history.history['val_loss']\n",
    "ty = history.history['loss']\n",
    "plt_dynamic(x, vy, ty, ax)"
   ]
  },
  {
   "cell_type": "markdown",
   "metadata": {
    "colab_type": "text",
    "id": "ubUlwE-2OW7x"
   },
   "source": [
    "**Observations**<br>\n",
    "1. Accuracy is slightly high when we used different kernel size in ascending order and also we can not build 6 or 7 layer cnn with  7*7 kernel size on this data because the input shape after applying after 4th layer, the shape we will obtain, is lower."
   ]
  },
  {
   "cell_type": "markdown",
   "metadata": {
    "colab_type": "text",
    "id": "X2oWVY8HrwtX"
   },
   "source": [
    "**Conclusion**"
   ]
  },
  {
   "cell_type": "markdown",
   "metadata": {
    "colab_type": "text",
    "id": "FiP1niVEGUrT"
   },
   "source": [
    "1. We have used 7 * 7 kernel size with 4 layer and also used different kernel size in ascending order and got 98% , 99% accuracy.\n",
    "2. We observe that incresing kernel_size may increse the performence and designing the network is like hit and trail. If the design model works good then choose it otherwise think for another one."
   ]
  },
  {
   "cell_type": "code",
   "execution_count": 35,
   "metadata": {
    "colab": {
     "base_uri": "https://localhost:8080/",
     "height": 124
    },
    "colab_type": "code",
    "id": "mBlb2B7-kIA8",
    "outputId": "221f590f-fe32-46e7-b7e1-a1c063f4e200"
   },
   "outputs": [
    {
     "name": "stdout",
     "output_type": "stream",
     "text": [
      "+----------------------------------------+----------+\n",
      "|                 MODEL                  | ACCURACY |\n",
      "+----------------------------------------+----------+\n",
      "| CNN with 5 layers, kernel_size = (7*7) |  0.9941  |\n",
      "| CNN with 7 layers, kernel_size = (7*7) |  0.989   |\n",
      "+----------------------------------------+----------+\n"
     ]
    }
   ],
   "source": [
    "from prettytable import PrettyTable\n",
    "\n",
    "x = PrettyTable()\n",
    "\n",
    "x.field_names = [\"MODEL\", \"ACCURACY\"]\n",
    "x.add_row([\"CNN with 5 layers, kernel_size = (7*7)\", score751[1]])\n",
    "x.add_row([\"CNN with 4 layers, kernel_size = (7*7)\", score757[1]])\n",
    "print(x)"
   ]
  }
 ],
 "metadata": {
  "colab": {
   "collapsed_sections": [],
   "name": "Convolutional neural network on MNIST data using keras_3.ipynb",
   "provenance": [],
   "version": "0.3.2"
  },
  "kernelspec": {
   "display_name": "Python 3",
   "language": "python",
   "name": "python3"
  },
  "language_info": {
   "codemirror_mode": {
    "name": "ipython",
    "version": 3
   },
   "file_extension": ".py",
   "mimetype": "text/x-python",
   "name": "python",
   "nbconvert_exporter": "python",
   "pygments_lexer": "ipython3",
   "version": "3.6.1"
  },
  "toc": {
   "base_numbering": 1,
   "nav_menu": {},
   "number_sections": true,
   "sideBar": true,
   "skip_h1_title": false,
   "title_cell": "Table of Contents",
   "title_sidebar": "Contents",
   "toc_cell": false,
   "toc_position": {},
   "toc_section_display": true,
   "toc_window_display": true
  }
 },
 "nbformat": 4,
 "nbformat_minor": 1
}
